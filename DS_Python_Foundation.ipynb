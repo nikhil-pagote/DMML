{
 "cells": [
  {
   "cell_type": "markdown",
   "metadata": {},
   "source": [
    "# Nikhil Pagote ML training:\n",
    "\n",
    ">Python Bootcamp:\n",
    "<https://github.com/krishnaik06/Complete-Python-Bootcamp.git>\n",
    "\n",
    ">AI/ML tutorial:\n",
    "<https://github.com/krishnaik06/Complete-Data-Science-With-Machine-Learning-And-NLP-2024.git>\n",
    "\n",
    "> Datamites Tutorial <https://drive.google.com/drive/folders/1-z_SVsHrxRVO6_NmT0w9tdkCwHC4nH0k>\n"
   ]
  },
  {
   "cell_type": "markdown",
   "metadata": {},
   "source": [
    "### Prequisite tools"
   ]
  },
  {
   "cell_type": "code",
   "execution_count": null,
   "metadata": {},
   "outputs": [],
   "source": [
    "! brew install anaconda --cask\n",
    "! brew install tableau-public --cask\n",
    "# Install MS PowerBI using windows VM"
   ]
  },
  {
   "cell_type": "markdown",
   "metadata": {},
   "source": [
    "### How to approach the Business Problem\n",
    "1. Define the problem\n",
    "2. collect data\n",
    "3. data preprocessing/cleansing\n",
    "4. Enrich data/ feature engineering\n",
    "5. EDA --> visuals\n",
    "6. Model building\n",
    "7. Model evalution\n",
    "8. Deploy model\n",
    "9. Monitor model"
   ]
  },
  {
   "cell_type": "markdown",
   "metadata": {},
   "source": [
    "### Domain Analysis\n",
    "* better context understanding\n",
    "* Relevance of data"
   ]
  },
  {
   "cell_type": "markdown",
   "metadata": {},
   "source": [
    "### EDA - Exploratory Data Analysis\n",
    "* Study pattern and relationship within data\n",
    "* Understand data structures\n",
    "* Insights, visual tools, graphical analysis, Histograms\n",
    "* Identify outliers and anomalies"
   ]
  },
  {
   "cell_type": "markdown",
   "metadata": {},
   "source": [
    "### Data Preperation/Cleaning\n",
    "* Data preprocessing\n",
    "* Data cleaning\n",
    "* Ensure data quality for predective analysis\n",
    "* Improves model performance"
   ]
  },
  {
   "cell_type": "markdown",
   "metadata": {},
   "source": [
    "## Conda:\n",
    "Install Anaconda or Miniconda using brew on your mac.\n",
    "> I am using miniconda over macbook. \n",
    "\n",
    "> Use command \"brew install miniconda\" "
   ]
  },
  {
   "cell_type": "code",
   "execution_count": null,
   "metadata": {},
   "outputs": [],
   "source": [
    "! conda --version\n",
    "# ! conda create -n ML-env python=3.12\n",
    "# ! conda activate ML-env\n",
    "# ! conda install pandas -c conda-forge\n",
    "! conda list\n",
    "! conda env list\n",
    "# ! conda deactivate"
   ]
  },
  {
   "cell_type": "markdown",
   "metadata": {},
   "source": [
    "### List Comprehension"
   ]
  },
  {
   "cell_type": "code",
   "execution_count": 1,
   "metadata": {},
   "outputs": [
    {
     "name": "stdout",
     "output_type": "stream",
     "text": [
      "[0, 1, 4, 9, 16, 25, 36, 49, 64, 81]\n"
     ]
    }
   ],
   "source": [
    "# Basic Example: Square of Numbers\n",
    "squares = [x**2 for x in range(10)]\n",
    "print(squares)"
   ]
  },
  {
   "cell_type": "code",
   "execution_count": null,
   "metadata": {},
   "outputs": [],
   "source": [
    "# List Comprehension with Conditional Filtering\n",
    "even_numbers = [x for x in range(10) if x % 2 == 0]\n",
    "print(even_numbers)"
   ]
  },
  {
   "cell_type": "code",
   "execution_count": null,
   "metadata": {},
   "outputs": [],
   "source": [
    "# Nested List Comprehension\n",
    "matrix = [[i * j for j in range(3)] for i in range(3)]\n",
    "print(matrix)"
   ]
  },
  {
   "cell_type": "code",
   "execution_count": null,
   "metadata": {},
   "outputs": [],
   "source": [
    "# Applying a Function to Each Element\n",
    "import math\n",
    "roots = [math.sqrt(x) for x in range(10)]\n",
    "print(roots)"
   ]
  },
  {
   "cell_type": "code",
   "execution_count": null,
   "metadata": {},
   "outputs": [],
   "source": [
    "# List Comprehension with else (Ternary Operator)\n",
    "results = [\"Even\" if x % 2 == 0 else \"Odd\" for x in range(10)]\n",
    "print(results)"
   ]
  },
  {
   "cell_type": "code",
   "execution_count": null,
   "metadata": {},
   "outputs": [],
   "source": [
    "# Using lambda and map in List Comprehension\n",
    "numbers = [1, 2, 3, 4, 5]\n",
    "squared_numbers = [x for x in map(lambda x: x**2, numbers)]\n",
    "print(squared_numbers)"
   ]
  },
  {
   "cell_type": "code",
   "execution_count": null,
   "metadata": {},
   "outputs": [],
   "source": [
    "# Using lambda and filter in List Comprehension\n",
    "numbers = [1, 2, 3, 4, 5, 6, 7, 8, 9]\n",
    "even_numbers = [x for x in filter(lambda x: x % 2 == 0, numbers)]\n",
    "print(even_numbers)"
   ]
  },
  {
   "cell_type": "code",
   "execution_count": null,
   "metadata": {},
   "outputs": [],
   "source": [
    "#  Combining map, filter, and lambda in List Comprehension\n",
    "numbers = [1, 2, 3, 4, 5, 6, 7, 8, 9]\n",
    "squared_even_numbers = [x for x in map(lambda x: x**2, filter(lambda x: x % 2 == 0, numbers))]\n",
    "print(squared_even_numbers)"
   ]
  },
  {
   "cell_type": "code",
   "execution_count": null,
   "metadata": {},
   "outputs": [],
   "source": [
    "# List Comprehension with Conditional Filtering (Alternative to filter)\n",
    "numbers = [1, 2, 3, 4, 5, 6, 7, 8, 9]\n",
    "squared_even_numbers = [x**2 for x in numbers if x % 2 == 0]\n",
    "print(squared_even_numbers)"
   ]
  },
  {
   "cell_type": "markdown",
   "metadata": {},
   "source": [
    "## Python Lambda:\n",
    "Python lambda is a shorthand way to define a function without a declared name.\n",
    "> lambda < parameters >:< logic to use parameter >"
   ]
  },
  {
   "cell_type": "code",
   "execution_count": null,
   "metadata": {},
   "outputs": [],
   "source": [
    "sqvalue = lambda num:num*num\n",
    "print(sqvalue(4))  #this will provide square of num provided."
   ]
  },
  {
   "cell_type": "markdown",
   "metadata": {},
   "source": [
    "## Python Maps:\n",
    "Map function uses a function and provides a list of parameters to return list of output wrt provided input parameter.\n",
    ">  map(< function name >, < list of input parameter>)\n",
    "\n",
    "> do not use () with function name inside map() "
   ]
  },
  {
   "cell_type": "code",
   "execution_count": null,
   "metadata": {},
   "outputs": [],
   "source": [
    "def square(x):\n",
    "    return(x*x)\n",
    "\n",
    "numbers = [1,2,3,4,5,6,7,8,9]\n",
    "print(map(square, numbers))  #this will provide map object\n",
    "print(list(map(square, numbers))) #this will convert map object to list object to print"
   ]
  },
  {
   "cell_type": "markdown",
   "metadata": {},
   "source": [
    "#### Python lambda with map:"
   ]
  },
  {
   "cell_type": "code",
   "execution_count": null,
   "metadata": {},
   "outputs": [],
   "source": [
    "numbers = [1,2,3,4,5,6,7,8,9]\n",
    "print(list(map(lambda x:x*x, numbers))) "
   ]
  },
  {
   "cell_type": "markdown",
   "metadata": {},
   "source": [
    "#### Python lambda map with multiple iterables:"
   ]
  },
  {
   "cell_type": "code",
   "execution_count": null,
   "metadata": {},
   "outputs": [],
   "source": [
    "numbers1 = [1,2,3,4]\n",
    "numbers2 = [5,6,7,8]\n",
    "print(list(map(lambda x,y:x+y, numbers1, numbers2))) # this will create a list of added intiger wrt index of item. o/p: [6,8,10,12]\n",
    "##############################################\n",
    "str_numbers = ['1', '2', '3', '4', '5']\n",
    "int_numbers = list(map(int, str_numbers)) \n",
    "print(int_numbers) # o/p: [1, 2, 3, 4, 5]\n",
    "##############################################\n",
    "words = ['apple', 'banana', 'cherry']\n",
    "upper_word = list(map(str.upper, words))\n",
    "print(upper_word) # prints o/p: ['APPLE', 'BANANA', 'CHERRY']"
   ]
  },
  {
   "cell_type": "markdown",
   "metadata": {},
   "source": [
    "#### Python Map with dictionary"
   ]
  },
  {
   "cell_type": "code",
   "execution_count": null,
   "metadata": {},
   "outputs": [],
   "source": [
    "def get_name(person):\n",
    "    return person['name']\n",
    "people = [\n",
    "    {'name': 'John', 'age': 30},\n",
    "    {'name': 'Alice', 'age': 25},\n",
    "    {'name': 'Bob', 'age': 40}\n",
    "]\n",
    "print(list(map(get_name, people))) # prints o/p: ['John', 'Alice', 'Bob']"
   ]
  },
  {
   "cell_type": "markdown",
   "metadata": {},
   "source": [
    "## Python Filter:\n",
    "Filter function uses a function and provides a list of parameters to return list of output wrt provided input parameter. The filter() function is a Powerful tool for creating itrators that filter items out of an iterable based on a function. It is commonly used for data cleaning, filtering objects and removing umwanted elements from lists."
   ]
  },
  {
   "cell_type": "code",
   "execution_count": null,
   "metadata": {},
   "outputs": [],
   "source": [
    "def is_even(x):\n",
    "    return x % 2 == 0\n",
    "numbers = [1,2,3,4,5,6,7,8,9]\n",
    "print(list(filter(is_even, numbers))) # prints o/p: [2, 4, 6, 8]"
   ]
  },
  {
   "cell_type": "markdown",
   "metadata": {},
   "source": [
    "#### Python Filter with lambda:"
   ]
  },
  {
   "cell_type": "code",
   "execution_count": null,
   "metadata": {},
   "outputs": [],
   "source": [
    "numbers = [1,2,3,4,5,6,7,8,9]\n",
    "greter_than_five = list(filter(lambda x: x>5, numbers))\n",
    "print(greter_than_five)  #Prints o/p: [6, 7, 8, 9]"
   ]
  },
  {
   "cell_type": "markdown",
   "metadata": {},
   "source": [
    "#### Python Filter with lambda and multiple conditions"
   ]
  },
  {
   "cell_type": "code",
   "execution_count": null,
   "metadata": {},
   "outputs": [],
   "source": [
    "numbers = [1,2,3,4,5,6,7,8,9]\n",
    "even_and_greter_than_five = list(filter(lambda x:x>5 and x%2==0, numbers))\n",
    "print(even_and_greter_than_five)  #Prints o/p: [6, 8]"
   ]
  },
  {
   "cell_type": "markdown",
   "metadata": {},
   "source": [
    "#### Python Filter with dictionary"
   ]
  },
  {
   "cell_type": "code",
   "execution_count": null,
   "metadata": {},
   "outputs": [],
   "source": [
    "people = [\n",
    "    {'name': 'John', 'age': 30},\n",
    "    {'name': 'Alice', 'age': 25},\n",
    "    {'name': 'Bob', 'age': 40}\n",
    "]\n",
    "def age_greter_than_25(person):\n",
    "    return person['age'] > 25\n",
    "\n",
    "print(list(filter(age_greter_than_25, people))) # prints o/p: [{'name': 'John', 'age': 30}, {'name': 'Bob', 'age': 40}]"
   ]
  }
 ],
 "metadata": {
  "kernelspec": {
   "display_name": "Python 3",
   "language": "python",
   "name": "python3"
  },
  "language_info": {
   "codemirror_mode": {
    "name": "ipython",
    "version": 3
   },
   "file_extension": ".py",
   "mimetype": "text/x-python",
   "name": "python",
   "nbconvert_exporter": "python",
   "pygments_lexer": "ipython3",
   "version": "3.12.1"
  }
 },
 "nbformat": 4,
 "nbformat_minor": 2
}
